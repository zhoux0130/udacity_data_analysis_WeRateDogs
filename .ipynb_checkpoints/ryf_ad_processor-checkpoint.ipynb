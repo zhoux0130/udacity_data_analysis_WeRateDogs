{
 "cells": [
  {
   "cell_type": "markdown",
   "metadata": {},
   "source": [
    "# 保留易观指数的原始数据\n"
   ]
  },
  {
   "cell_type": "code",
   "execution_count": 1,
   "metadata": {},
   "outputs": [
    {
     "name": "stdout",
     "output_type": "stream",
     "text": [
      "http://zhishu.analysys.cn/public/qianfan/topRank/listTopRank?page=1&pageSize=200\n",
      "http://zhishu.analysys.cn/public/qianfan/topRank/listTopRank?page=2&pageSize=200\n",
      "http://zhishu.analysys.cn/public/qianfan/topRank/listTopRank?page=3&pageSize=200\n",
      "http://zhishu.analysys.cn/public/qianfan/topRank/listTopRank?page=4&pageSize=200\n",
      "http://zhishu.analysys.cn/public/qianfan/topRank/listTopRank?page=5&pageSize=200\n",
      "http://zhishu.analysys.cn/public/qianfan/topRank/listTopRank?page=6&pageSize=200\n",
      "http://zhishu.analysys.cn/public/qianfan/topRank/listTopRank?page=7&pageSize=200\n",
      "http://zhishu.analysys.cn/public/qianfan/topRank/listTopRank?page=8&pageSize=200\n",
      "http://zhishu.analysys.cn/public/qianfan/topRank/listTopRank?page=9&pageSize=200\n",
      "http://zhishu.analysys.cn/public/qianfan/topRank/listTopRank?page=10&pageSize=200\n"
     ]
    }
   ],
   "source": [
    "import requests\n",
    "import json\n",
    "import time\n",
    "from pandas.io.json import json_normalize\n",
    "\n",
    "def getDataFromNet():\n",
    "    allInOne = []\n",
    "    for index in range(1,11):\n",
    "        url = 'http://zhishu.analysys.cn/public/qianfan/topRank/listTopRank?page=' + str(index) + '&pageSize=200'\n",
    "        #print(url)\n",
    "        r = requests.get(url)\n",
    "\n",
    "        dataStr = r.text\n",
    "        data = json.loads(dataStr)\n",
    "\n",
    "        data_list = data['datas']['list']\n",
    "        allInOne = allInOne + data_list\n",
    "        \n",
    "    df = json_normalize(allInOne)\n",
    "    #处理初始数据，添加业务关心的数据\n",
    "    df['dayChangeNums'] = df['dayActiveNumsRatio'] * df['dayActiveNums']\n",
    "    df['monthChangeNums'] = df['monthActiveNumsRatio'] * df['monthActiveNums']\n",
    "    \n",
    "    return df\n",
    "    \n",
    "    \n",
    "def write2File(df):\n",
    "    fileName = 'data_20190224.csv'\n",
    "    df.to_csv(fileName, index=False, encoding = 'UTF-8')\n",
    "    time.sleep(2)\n",
    "\n",
    "\n",
    "df = getDataFromNet()\n",
    "write2File(df)\n",
    "print('done')"
   ]
  },
  {
   "cell_type": "markdown",
   "metadata": {},
   "source": [
    "## 用来处理广告来源数据的分析\n",
    "\n",
    "* 通过url的后缀进行分割，添加一列关键技术点（或者是分享）\n",
    "* 统计文章的时间，来分析用户是博客订阅者，还是通过搜索引擎过来的\n",
    "* 针对访问超过一次的用户，单独进行分析"
   ]
  },
  {
   "cell_type": "code",
   "execution_count": 46,
   "metadata": {},
   "outputs": [],
   "source": [
    "import pandas as pd\n",
    "archive_origin = pd.read_csv('ryf_source_data.csv', encoding = 'gbk')\n",
    "ad_df = archive_origin.copy()"
   ]
  },
  {
   "cell_type": "markdown",
   "metadata": {},
   "source": [
    "## 从URL中获取文章的标题和更新时间信息\n",
    "\n",
    "返回的数据结构如下： <br>\n",
    "`{\n",
    "   'title':'react',\n",
    "   'date':'2019/02'\n",
    "}`"
   ]
  },
  {
   "cell_type": "code",
   "execution_count": 47,
   "metadata": {},
   "outputs": [],
   "source": [
    "from urllib.parse import urlparse\n",
    "\n",
    "def getKeyword(url):\n",
    "    if url.startswith('http://'):\n",
    "        urlobj = urlparse(url)\n",
    "        # 将url用“/”进行分割，同时去掉.html尾缀\n",
    "        str_list = urlobj.path.split('/')\n",
    "        if 'blog' in str_list:\n",
    "            seq = (str_list[2], str_list[3])\n",
    "            date = '/'.join(seq)\n",
    "            title = urlobj.path.split('/')[-1][:-5]\n",
    "            return {'title': title, 'date': date}\n",
    "    return {'title':'', 'date':''}"
   ]
  },
  {
   "cell_type": "markdown",
   "metadata": {},
   "source": [
    "# 从文章的HTML结构中获取信息\n",
    "\n",
    "* 文章的类目从HTML结构中获取\n",
    "* 判断分类是否属于意向用户的范围（开发者手册，以及JavaScript偏向前端开发角色）<br>\n",
    "\n",
    "返回的数据结构如下：<br>\n",
    "`\n",
    "{\n",
    "  'intention': False/True,\n",
    "  'category':'JavaScript'\n",
    "}\n",
    "`"
   ]
  },
  {
   "cell_type": "code",
   "execution_count": 48,
   "metadata": {},
   "outputs": [],
   "source": [
    "from bs4 import BeautifulSoup\n",
    "good_category = ['开发者手册','JavaScript']\n",
    "\n",
    "def getCategory(url):\n",
    "    data = {'intention': False, 'category':''}\n",
    "\n",
    "    if url.startswith('http://'):\n",
    "        response = requests.get(url)\n",
    "        soup = BeautifulSoup(response.content, 'lxml')\n",
    "        categorySpan = soup.find('div', {'class': 'entry-categories'})\n",
    "        if not categorySpan:\n",
    "            return data\n",
    "        category = categorySpan.find('a').string\n",
    "        if category in good_category:\n",
    "            data['intention'] = True\n",
    "        data['category'] = category\n",
    "        return data\n",
    "    return data"
   ]
  },
  {
   "cell_type": "markdown",
   "metadata": {},
   "source": [
    "# 得到处理后的数据表格，和原表格进行合并\n"
   ]
  },
  {
   "cell_type": "code",
   "execution_count": 49,
   "metadata": {},
   "outputs": [
    {
     "name": "stdout",
     "output_type": "stream",
     "text": [
      "<class 'pandas.core.frame.DataFrame'>\n",
      "Int64Index: 195 entries, 0 to 194\n",
      "Data columns (total 30 columns):\n",
      "no            195 non-null int64\n",
      "访问时间          195 non-null object\n",
      "地域            195 non-null object\n",
      "ref_link      195 non-null object\n",
      "入口页面          195 non-null object\n",
      "搜索词           195 non-null object\n",
      "访问IP          195 non-null object\n",
      "访客标识码         195 non-null float64\n",
      "访问时长          195 non-null object\n",
      "访问页数          195 non-null int64\n",
      "最后停留在         195 non-null object\n",
      "上一次访问时间       195 non-null object\n",
      "访问类型          195 non-null object\n",
      "访问频次          195 non-null int64\n",
      "操作系统          195 non-null object\n",
      "网络服务商         133 non-null object\n",
      "浏览器           195 non-null object\n",
      "语言环境          0 non-null float64\n",
      "屏幕分辨率         183 non-null object\n",
      "屏幕颜色          195 non-null object\n",
      "Flash版本       1 non-null float64\n",
      "是否支持Cookie    195 non-null object\n",
      "是否支持JAVA      195 non-null object\n",
      "打开时间          195 non-null object\n",
      "停留时长          195 non-null object\n",
      "页面地址          195 non-null object\n",
      "title         195 non-null object\n",
      "cateogry      0 non-null float64\n",
      "date          195 non-null object\n",
      "intention     195 non-null bool\n",
      "dtypes: bool(1), float64(4), int64(3), object(22)\n",
      "memory usage: 45.9+ KB\n"
     ]
    }
   ],
   "source": [
    "url_list = ad_df['ref_link']\n",
    "df_list = []\n",
    "unique_url_list = []\n",
    "\n",
    "for url in url_list :\n",
    "    cate_data = getCategory(url)\n",
    "    if url in unique_url_list:\n",
    "        continue\n",
    "    url_data = getKeyword(url)\n",
    "    df_list.append({\n",
    "        'ref_link': url,\n",
    "        'title': url_data['title'],\n",
    "        'category': cate_data['category'],\n",
    "        'date': url_data['date'],\n",
    "        'intention':cate_data['intention']\n",
    "    })\n",
    "    unique_url_list.append(url)\n",
    "\n",
    "#将两个数据结构按照同一个key值进行合并\n",
    "new_df = pd.DataFrame(df_list, columns = ['ref_link', 'title', 'cateogry', 'date', 'intention'])\n",
    "new_ad_df = pd.merge(ad_df, new_df, how='inner', on=['ref_link'])\n",
    "new_ad_df.head()\n",
    "\n",
    "#将得到的新表格，写入到本地文件\n",
    "new_ad_df.to_csv('ryf_ad_data.csv', index=False, encoding = 'gbk')\n",
    "new_ad_df.info()"
   ]
  },
  {
   "cell_type": "markdown",
   "metadata": {},
   "source": [
    "# 对数据进行清洗\n",
    "\n",
    "* 将来自不同csv的数据进行合并\n",
    "* 过滤掉公司的ip：36.27.67.31\n",
    "* 只分析来源是阮一峰博客或者知乎的\n",
    "* 对访问时长进行处理\n"
   ]
  },
  {
   "cell_type": "code",
   "execution_count": 168,
   "metadata": {},
   "outputs": [],
   "source": [
    "#TODO\n"
   ]
  },
  {
   "cell_type": "code",
   "execution_count": 177,
   "metadata": {},
   "outputs": [
    {
     "name": "stdout",
     "output_type": "stream",
     "text": [
      "<class 'pandas.core.frame.DataFrame'>\n",
      "RangeIndex: 195 entries, 0 to 194\n",
      "Data columns (total 30 columns):\n",
      "no                  195 non-null int64\n",
      "visit_date          195 non-null object\n",
      "domain              195 non-null object\n",
      "ref_link            195 non-null object\n",
      "portal_url          195 non-null object\n",
      "搜索词                 195 non-null object\n",
      "visit_IP            195 non-null object\n",
      "user_unique_code    195 non-null float64\n",
      "duration_time       195 non-null object\n",
      "visit_page_nums     195 non-null int64\n",
      "last_visit_page     195 non-null object\n",
      "last_visit_time     195 non-null object\n",
      "user_type           195 non-null object\n",
      "visit_times         195 non-null int64\n",
      "os                  195 non-null object\n",
      "net_server          133 non-null object\n",
      "brower              195 non-null object\n",
      "local_lang          0 non-null float64\n",
      "screen_info         183 non-null object\n",
      "屏幕颜色                195 non-null object\n",
      "Flash版本             1 non-null float64\n",
      "是否支持Cookie          195 non-null object\n",
      "是否支持JAVA            195 non-null object\n",
      "打开时间                195 non-null object\n",
      "停留时长                195 non-null object\n",
      "页面地址                195 non-null object\n",
      "title               167 non-null object\n",
      "cateogry            0 non-null float64\n",
      "date                167 non-null object\n",
      "intention           195 non-null bool\n",
      "dtypes: bool(1), float64(4), int64(3), object(22)\n",
      "memory usage: 44.4+ KB\n"
     ]
    }
   ],
   "source": [
    "% matplotlib inline\n",
    "import seaborn as sns\n",
    "import matplotlib.pyplot as plt\n",
    "import numpy as np\n",
    "%config InlineBackend.figure_format = \"retina\"\n",
    "\n",
    "df = pd.read_csv('ryf_ad_data.csv',encoding = 'gbk')\n",
    "df.info()"
   ]
  },
  {
   "cell_type": "code",
   "execution_count": 91,
   "metadata": {},
   "outputs": [
    {
     "data": {
      "text/plain": [
       "<matplotlib.axes._subplots.AxesSubplot at 0x12683e358>"
      ]
     },
     "execution_count": 91,
     "metadata": {},
     "output_type": "execute_result"
    },
    {
     "data": {
      "image/png": "[encoded data removed]",
      "text/plain": [
       "<Figure size 432x288 with 1 Axes>"
      ]
     },
     "metadata": {
      "image/png": {
       "height": 452,
       "width": 370
      }
     },
     "output_type": "display_data"
    }
   ],
   "source": [
    "# 将总点击量大于3的文章展示在图中\n",
    "grouped = df.groupby(['title'])\n",
    "filter_gp = grouped.filter(lambda x: x['no'].count() > 3)\n",
    "filter_gp['title'].value_counts().plot(kind='bar')"
   ]
  },
  {
   "cell_type": "code",
   "execution_count": null,
   "metadata": {},
   "outputs": [],
   "source": [
    "filter_gp"
   ]
  },
  {
   "cell_type": "markdown",
   "metadata": {},
   "source": [
    "# 处理用户停留页面的时间，并且按照一定区间进行聚合\n",
    "\n",
    "* 值为未知，则写为0；否则去掉数字中的“s”"
   ]
  },
  {
   "cell_type": "code",
   "execution_count": 178,
   "metadata": {},
   "outputs": [],
   "source": [
    "def transform(row):\n",
    "    duration_str = row['duration_time']\n",
    "    duration_time = 0\n",
    "    first_letter = duration_str[0]\n",
    "    if first_letter.isdigit():\n",
    "        duration_time = int(duration_str[:-1])\n",
    "        \n",
    "    row['duration_time'] = duration_time\n",
    "    return row\n",
    "\n",
    "df = df.apply(transform, axis=1)"
   ]
  },
  {
   "cell_type": "code",
   "execution_count": 186,
   "metadata": {},
   "outputs": [
    {
     "data": {
      "text/html": [
       "<div>\n",
       "<style scoped>\n",
       "    .dataframe tbody tr th:only-of-type {\n",
       "        vertical-align: middle;\n",
       "    }\n",
       "\n",
       "    .dataframe tbody tr th {\n",
       "        vertical-align: top;\n",
       "    }\n",
       "\n",
       "    .dataframe thead th {\n",
       "        text-align: right;\n",
       "    }\n",
       "</style>\n",
       "<table border=\"1\" class=\"dataframe\">\n",
       "  <thead>\n",
       "    <tr style=\"text-align: right;\">\n",
       "      <th></th>\n",
       "      <th>no</th>\n",
       "      <th>user_unique_code</th>\n",
       "      <th>duration_time</th>\n",
       "      <th>visit_page_nums</th>\n",
       "      <th>visit_times</th>\n",
       "      <th>local_lang</th>\n",
       "      <th>Flash版本</th>\n",
       "      <th>cateogry</th>\n",
       "    </tr>\n",
       "  </thead>\n",
       "  <tbody>\n",
       "    <tr>\n",
       "      <th>count</th>\n",
       "      <td>151.000000</td>\n",
       "      <td>1.510000e+02</td>\n",
       "      <td>151.000000</td>\n",
       "      <td>151.000000</td>\n",
       "      <td>151.000000</td>\n",
       "      <td>0.0</td>\n",
       "      <td>1.0</td>\n",
       "      <td>0.0</td>\n",
       "    </tr>\n",
       "    <tr>\n",
       "      <th>mean</th>\n",
       "      <td>508.781457</td>\n",
       "      <td>2.082848e+18</td>\n",
       "      <td>15.165563</td>\n",
       "      <td>1.139073</td>\n",
       "      <td>1.066225</td>\n",
       "      <td>NaN</td>\n",
       "      <td>11.2</td>\n",
       "      <td>NaN</td>\n",
       "    </tr>\n",
       "    <tr>\n",
       "      <th>std</th>\n",
       "      <td>129.646077</td>\n",
       "      <td>6.300999e+17</td>\n",
       "      <td>19.614767</td>\n",
       "      <td>0.577809</td>\n",
       "      <td>0.319768</td>\n",
       "      <td>NaN</td>\n",
       "      <td>NaN</td>\n",
       "      <td>NaN</td>\n",
       "    </tr>\n",
       "    <tr>\n",
       "      <th>min</th>\n",
       "      <td>23.000000</td>\n",
       "      <td>1.670000e+18</td>\n",
       "      <td>0.000000</td>\n",
       "      <td>1.000000</td>\n",
       "      <td>1.000000</td>\n",
       "      <td>NaN</td>\n",
       "      <td>11.2</td>\n",
       "      <td>NaN</td>\n",
       "    </tr>\n",
       "    <tr>\n",
       "      <th>25%</th>\n",
       "      <td>463.500000</td>\n",
       "      <td>1.870000e+18</td>\n",
       "      <td>2.000000</td>\n",
       "      <td>1.000000</td>\n",
       "      <td>1.000000</td>\n",
       "      <td>NaN</td>\n",
       "      <td>11.2</td>\n",
       "      <td>NaN</td>\n",
       "    </tr>\n",
       "    <tr>\n",
       "      <th>50%</th>\n",
       "      <td>533.000000</td>\n",
       "      <td>1.990000e+18</td>\n",
       "      <td>5.000000</td>\n",
       "      <td>1.000000</td>\n",
       "      <td>1.000000</td>\n",
       "      <td>NaN</td>\n",
       "      <td>11.2</td>\n",
       "      <td>NaN</td>\n",
       "    </tr>\n",
       "    <tr>\n",
       "      <th>75%</th>\n",
       "      <td>596.500000</td>\n",
       "      <td>2.190000e+18</td>\n",
       "      <td>22.000000</td>\n",
       "      <td>1.000000</td>\n",
       "      <td>1.000000</td>\n",
       "      <td>NaN</td>\n",
       "      <td>11.2</td>\n",
       "      <td>NaN</td>\n",
       "    </tr>\n",
       "    <tr>\n",
       "      <th>max</th>\n",
       "      <td>664.000000</td>\n",
       "      <td>8.510000e+18</td>\n",
       "      <td>77.000000</td>\n",
       "      <td>6.000000</td>\n",
       "      <td>4.000000</td>\n",
       "      <td>NaN</td>\n",
       "      <td>11.2</td>\n",
       "      <td>NaN</td>\n",
       "    </tr>\n",
       "  </tbody>\n",
       "</table>\n",
       "</div>"
      ],
      "text/plain": [
       "               no  user_unique_code  duration_time  visit_page_nums  \\\n",
       "count  151.000000      1.510000e+02     151.000000       151.000000   \n",
       "mean   508.781457      2.082848e+18      15.165563         1.139073   \n",
       "std    129.646077      6.300999e+17      19.614767         0.577809   \n",
       "min     23.000000      1.670000e+18       0.000000         1.000000   \n",
       "25%    463.500000      1.870000e+18       2.000000         1.000000   \n",
       "50%    533.000000      1.990000e+18       5.000000         1.000000   \n",
       "75%    596.500000      2.190000e+18      22.000000         1.000000   \n",
       "max    664.000000      8.510000e+18      77.000000         6.000000   \n",
       "\n",
       "       visit_times  local_lang  Flash版本  cateogry  \n",
       "count   151.000000         0.0      1.0       0.0  \n",
       "mean      1.066225         NaN     11.2       NaN  \n",
       "std       0.319768         NaN      NaN       NaN  \n",
       "min       1.000000         NaN     11.2       NaN  \n",
       "25%       1.000000         NaN     11.2       NaN  \n",
       "50%       1.000000         NaN     11.2       NaN  \n",
       "75%       1.000000         NaN     11.2       NaN  \n",
       "max       4.000000         NaN     11.2       NaN  "
      ]
     },
     "execution_count": 186,
     "metadata": {},
     "output_type": "execute_result"
    },
    {
     "data": {
      "image/png": "[encoded data removed]",
      "text/plain": [
       "<Figure size 432x288 with 1 Axes>"
      ]
     },
     "metadata": {
      "image/png": {
       "height": 250,
       "width": 370
      }
     },
     "output_type": "display_data"
    }
   ],
   "source": [
    "\n",
    "df['duration_time'].describe()\n",
    "\n",
    "df_new = df[df['duration_time'] < 80]\n",
    "df_new['duration_time'].plot(kind='box')\n",
    "df_new.describe()"
   ]
  },
  {
   "cell_type": "code",
   "execution_count": 167,
   "metadata": {},
   "outputs": [
    {
     "data": {
      "text/plain": [
       "{0: Int64Index([  4,   9,  26,  36,  38,  39,  40,  41,  42,  43,  46,  61,  63,\n",
       "              90,  94, 105, 109, 111, 113, 132, 144, 150, 151, 154, 164, 168,\n",
       "             169],\n",
       "            dtype='int64'),\n",
       " 1: Int64Index([3, 7, 84, 88, 98, 127, 145, 190, 194], dtype='int64'),\n",
       " 2: Int64Index([13, 14, 34, 35, 75, 92, 108, 121, 149, 160, 187], dtype='int64'),\n",
       " 3: Int64Index([16, 31, 44, 81, 89, 123, 126, 129, 162], dtype='int64'),\n",
       " 4: Int64Index([2, 15, 59, 87, 172], dtype='int64'),\n",
       " 5: Int64Index([6, 30, 68, 72, 83, 85, 103, 115, 116, 122, 140, 171, 174, 182,\n",
       "             185],\n",
       "            dtype='int64'),\n",
       " 6: Int64Index([24, 37, 47, 86, 95, 161], dtype='int64'),\n",
       " 7: Int64Index([18, 173], dtype='int64'),\n",
       " 8: Int64Index([19, 33, 60, 70, 96, 97, 139], dtype='int64'),\n",
       " 9: Int64Index([27], dtype='int64'),\n",
       " 10: Int64Index([118, 131, 142, 157], dtype='int64'),\n",
       " 11: Int64Index([20, 66, 179], dtype='int64'),\n",
       " 12: Int64Index([141], dtype='int64'),\n",
       " 13: Int64Index([55, 181], dtype='int64'),\n",
       " 14: Int64Index([52, 65, 101], dtype='int64'),\n",
       " 16: Int64Index([114], dtype='int64'),\n",
       " 17: Int64Index([45], dtype='int64'),\n",
       " 18: Int64Index([64, 192], dtype='int64'),\n",
       " 20: Int64Index([163], dtype='int64'),\n",
       " 21: Int64Index([32], dtype='int64'),\n",
       " 22: Int64Index([56, 79, 159], dtype='int64'),\n",
       " 23: Int64Index([78], dtype='int64'),\n",
       " 25: Int64Index([148], dtype='int64'),\n",
       " 26: Int64Index([112, 134], dtype='int64'),\n",
       " 28: Int64Index([10], dtype='int64'),\n",
       " 29: Int64Index([184], dtype='int64'),\n",
       " 30: Int64Index([57], dtype='int64'),\n",
       " 33: Int64Index([48], dtype='int64'),\n",
       " 34: Int64Index([117, 124], dtype='int64'),\n",
       " 35: Int64Index([93, 158], dtype='int64'),\n",
       " 36: Int64Index([152, 176], dtype='int64'),\n",
       " 37: Int64Index([99], dtype='int64'),\n",
       " 38: Int64Index([146], dtype='int64'),\n",
       " 39: Int64Index([22], dtype='int64'),\n",
       " 41: Int64Index([143], dtype='int64'),\n",
       " 44: Int64Index([133], dtype='int64'),\n",
       " 45: Int64Index([11], dtype='int64'),\n",
       " 46: Int64Index([137], dtype='int64'),\n",
       " 50: Int64Index([58], dtype='int64'),\n",
       " 51: Int64Index([54, 177], dtype='int64'),\n",
       " 55: Int64Index([77], dtype='int64'),\n",
       " 56: Int64Index([119], dtype='int64'),\n",
       " 57: Int64Index([82], dtype='int64'),\n",
       " 58: Int64Index([100], dtype='int64'),\n",
       " 59: Int64Index([107], dtype='int64'),\n",
       " 61: Int64Index([50, 130, 147], dtype='int64'),\n",
       " 65: Int64Index([74], dtype='int64'),\n",
       " 68: Int64Index([156], dtype='int64'),\n",
       " 71: Int64Index([71], dtype='int64'),\n",
       " 72: Int64Index([62], dtype='int64'),\n",
       " 77: Int64Index([136], dtype='int64'),\n",
       " 81: Int64Index([80, 191], dtype='int64'),\n",
       " 82: Int64Index([53], dtype='int64'),\n",
       " 87: Int64Index([102], dtype='int64'),\n",
       " 88: Int64Index([178], dtype='int64'),\n",
       " 93: Int64Index([166, 183], dtype='int64'),\n",
       " 94: Int64Index([67], dtype='int64'),\n",
       " 103: Int64Index([188], dtype='int64'),\n",
       " 113: Int64Index([138], dtype='int64'),\n",
       " 114: Int64Index([29, 51], dtype='int64'),\n",
       " 122: Int64Index([69], dtype='int64'),\n",
       " 126: Int64Index([25], dtype='int64'),\n",
       " 134: Int64Index([0], dtype='int64'),\n",
       " 135: Int64Index([104], dtype='int64'),\n",
       " 141: Int64Index([189], dtype='int64'),\n",
       " 146: Int64Index([5], dtype='int64'),\n",
       " 148: Int64Index([175], dtype='int64'),\n",
       " 150: Int64Index([21], dtype='int64'),\n",
       " 152: Int64Index([153], dtype='int64'),\n",
       " 157: Int64Index([49, 167], dtype='int64'),\n",
       " 166: Int64Index([110], dtype='int64'),\n",
       " 171: Int64Index([186], dtype='int64'),\n",
       " 189: Int64Index([180], dtype='int64'),\n",
       " 190: Int64Index([8], dtype='int64'),\n",
       " 228: Int64Index([135], dtype='int64'),\n",
       " 234: Int64Index([17], dtype='int64'),\n",
       " 245: Int64Index([1], dtype='int64'),\n",
       " 266: Int64Index([28], dtype='int64'),\n",
       " 286: Int64Index([165], dtype='int64'),\n",
       " 333: Int64Index([125], dtype='int64'),\n",
       " 369: Int64Index([155], dtype='int64'),\n",
       " 378: Int64Index([128], dtype='int64'),\n",
       " 437: Int64Index([73], dtype='int64'),\n",
       " 440: Int64Index([120], dtype='int64'),\n",
       " 555: Int64Index([23], dtype='int64'),\n",
       " 720: Int64Index([12], dtype='int64'),\n",
       " 879: Int64Index([106], dtype='int64'),\n",
       " 897: Int64Index([91], dtype='int64'),\n",
       " 1025: Int64Index([170], dtype='int64'),\n",
       " 1167: Int64Index([76], dtype='int64'),\n",
       " 2231: Int64Index([193], dtype='int64')}"
      ]
     },
     "execution_count": 167,
     "metadata": {},
     "output_type": "execute_result"
    }
   ],
   "source": [
    "# df = df.sort('duration_time')\n",
    "df.groupby(['duration_time']).groups"
   ]
  },
  {
   "cell_type": "code",
   "execution_count": null,
   "metadata": {},
   "outputs": [],
   "source": []
  }
 ],
 "metadata": {
  "kernelspec": {
   "display_name": "Python 2",
   "language": "python",
   "name": "python2"
  },
  "language_info": {
   "codemirror_mode": {
    "name": "ipython",
    "version": 3
   },
   "file_extension": ".py",
   "mimetype": "text/x-python",
   "name": "python",
   "nbconvert_exporter": "python",
   "pygments_lexer": "ipython3",
   "version": "3.6.5"
  }
 },
 "nbformat": 4,
 "nbformat_minor": 2
}
